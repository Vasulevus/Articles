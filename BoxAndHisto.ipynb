{
 "cells": [
  {
   "attachments": {},
   "cell_type": "markdown",
   "id": "95a13ce7",
   "metadata": {},
   "source": [
    "## Діаграма розмаху та гістограма"
   ]
  },
  {
   "attachments": {},
   "cell_type": "markdown",
   "id": "bf9313f3",
   "metadata": {},
   "source": [
    "Для побудови даного типу графіка ми скористаємося мовою Python та кількома бібліотеками цієї мови - matplotlib(для створення графіків), numpy(для обрахунків) та statisitcs(для статистичних обрахунків)."
   ]
  },
  {
   "cell_type": "code",
   "execution_count": 10,
   "id": "7a2f469d",
   "metadata": {},
   "outputs": [],
   "source": [
    "import matplotlib.pyplot as plt\n",
    "import numpy as np\n",
    "import statistics as s"
   ]
  },
  {
   "attachments": {},
   "cell_type": "markdown",
   "id": "9e4627dc",
   "metadata": {},
   "source": [
    "В якості даних я скористаюся своїм власним набором даних - покупками на AliExpress. Для побудови графіку мені потрібен мінімальний набір даних, тож я скористаюся простим списком замісь завантаження цілої таблиці. Цей набір даних назву data."
   ]
  },
  {
   "cell_type": "code",
   "execution_count": 11,
   "id": "b2cdae78",
   "metadata": {},
   "outputs": [],
   "source": [
    "data = [4.02, 5.05, 0.9, 2.35, 1.38, 1.39, 2.26, 2.74, 1.78, 1.89, 2.14, 2.41, 4.42, 2.89, 3.03, 5.12, 9.89, 3.85, 4.2, 4.65, 4.42, 4.65, 4.92, 11.56, 7.07, 7.17, 7.34, 8.1, 8.84, 9.12, 9.44, 9.87, 8.57, 11.4, 11.88, 59.4, 14.13, 12.51, 12.79, 13.56, 12.95, 14.84, 16.6, 19.18, 16.33, 17.72, 19.49, 24.55, 24.74, 24.31]\n",
    "data = np.array(data)"
   ]
  },
  {
   "attachments": {},
   "cell_type": "markdown",
   "id": "3e0d59a6",
   "metadata": {},
   "source": [
    "Тепер створюємо візуалізацію цих даних на основі matplotlib."
   ]
  },
  {
   "attachments": {},
   "cell_type": "markdown",
   "id": "a5fa4783",
   "metadata": {},
   "source": [
    "Спочатку я покажу коробковий графік:"
   ]
  },
  {
   "cell_type": "code",
   "execution_count": 12,
   "id": "087c0130",
   "metadata": {
    "scrolled": true
   },
   "outputs": [
    {
     "data": {
      "text/plain": [
       "{'whiskers': [<matplotlib.lines.Line2D at 0x7fd7c454ae20>,\n",
       "  <matplotlib.lines.Line2D at 0x7fd7c4730700>],\n",
       " 'caps': [<matplotlib.lines.Line2D at 0x7fd7c47309d0>,\n",
       "  <matplotlib.lines.Line2D at 0x7fd7c4560a00>],\n",
       " 'boxes': [<matplotlib.lines.Line2D at 0x7fd7c454a700>],\n",
       " 'medians': [<matplotlib.lines.Line2D at 0x7fd7c45514f0>],\n",
       " 'fliers': [<matplotlib.lines.Line2D at 0x7fd7c45519d0>],\n",
       " 'means': []}"
      ]
     },
     "execution_count": 12,
     "metadata": {},
     "output_type": "execute_result"
    },
    {
     "data": {
      "image/png": "[encoded data removed]",
      "text/plain": [
       "<Figure size 640x480 with 1 Axes>"
      ]
     },
     "metadata": {},
     "output_type": "display_data"
    }
   ],
   "source": [
    "plt.boxplot(x=data,vert=False)"
   ]
  },
  {
   "attachments": {},
   "cell_type": "markdown",
   "id": "f3cf89b2",
   "metadata": {},
   "source": [
    "Що ми тут бачимо:\n",
    "На діаграмі розмаху ми можемо побачити, як дані покупок розмістилися відносно квартилів. Квартилі - фактично, це дані, що розділені на 4 частини. Якщо брати весь набір даних за 100 %, то перший квартиль - це значення від 0 до 25%(найменші значення), другий - значення від 25% до 50%, третій - від 50% до 75% і четвертий - від 75% до 100%(всі найбільші значення). \"Коробка\" цієї діаграми охоплює другий та третій квартиль (25%-75%), їх ще називають міжквартильним розмахом. Лівий вус охоплює перший квартиль, а правий - показує найбільше значення в межах 1,5 міжквартильних розмахи верхнього квартиля. Кружечки - це так звані \"викиди\"(outliers), які знаходять за межами міжквартильного розмаху. В даному випадку викидом являється покупка ламп на суму 59,4 долари."
   ]
  },
  {
   "attachments": {},
   "cell_type": "markdown",
   "id": "1f0dbcf1",
   "metadata": {},
   "source": [
    "Тепер погляньмо на гістограму:"
   ]
  },
  {
   "cell_type": "code",
   "execution_count": 15,
   "id": "64834efc",
   "metadata": {},
   "outputs": [
    {
     "data": {
      "text/plain": [
       "<matplotlib.lines.Line2D at 0x7fd7c46a7a00>"
      ]
     },
     "execution_count": 15,
     "metadata": {},
     "output_type": "execute_result"
    },
    {
     "data": {
      "image/png": "[encoded data removed]",
      "text/plain": [
       "<Figure size 640x480 with 1 Axes>"
      ]
     },
     "metadata": {},
     "output_type": "display_data"
    }
   ],
   "source": [
    "plt.hist(x=data, color='green',alpha = 0.4)\n",
    "medians = s.median(data)\n",
    "plt.text(medians+1, 20, s='Медіана: {:.2f}'.format(medians))\n",
    "plt.axvline(medians, color='red', alpha = 0.5, linewidth=1, label=\"Медіана\")"
   ]
  },
  {
   "attachments": {},
   "cell_type": "markdown",
   "id": "397160d0",
   "metadata": {},
   "source": [
    "На цій гістограмі ми бачимо, як саме розподілилися значення. Зокрема, найбільше покупок було вартістю до 5 доларів. Це викликає праву асиметрію у розподілі даних. \n",
    "Також можемо побачити викид на шкалі, про який згадували при розгляді діаграми розмаху."
   ]
  },
  {
   "cell_type": "code",
   "execution_count": 1,
   "id": "56e3d998",
   "metadata": {
    "scrolled": true
   },
   "outputs": [
    {
     "ename": "NameError",
     "evalue": "name 'plt' is not defined",
     "output_type": "error",
     "traceback": [
      "\u001b[0;31m---------------------------------------------------------------------------\u001b[0m",
      "\u001b[0;31mNameError\u001b[0m                                 Traceback (most recent call last)",
      "Cell \u001b[0;32mIn[1], line 1\u001b[0m\n\u001b[0;32m----> 1\u001b[0m fig, axes \u001b[39m=\u001b[39m plt\u001b[39m.\u001b[39msubplots(\u001b[39m2\u001b[39m, \u001b[39m1\u001b[39m, sharex\u001b[39m=\u001b[39m\u001b[39mTrue\u001b[39;00m)\n\u001b[1;32m      2\u001b[0m medians \u001b[39m=\u001b[39m s\u001b[39m.\u001b[39mmedian(data)\n\u001b[1;32m      3\u001b[0m modes \u001b[39m=\u001b[39m s\u001b[39m.\u001b[39mmode(data)\n",
      "\u001b[0;31mNameError\u001b[0m: name 'plt' is not defined"
     ]
    }
   ],
   "source": [
    "fig, axes = plt.subplots(2, 1, sharex=True)\n",
    "medians = s.median(data)\n",
    "modes = s.mode(data)\n",
    "plt.text(medians+1, 20, s='Медіана: {:.2f}'.format(medians))\n",
    "plt.text(modes+1, 15, s='Мода: {:.2f}'.format(modes))\n",
    "axes[0].boxplot(data, vert = False)\n",
    "axes[1].hist(x=data, color='green', alpha =0.4)\n",
    "plt.axvline(medians, color='red', alpha = 0.5, linewidth=1, label=\"Медіана\")\n",
    "plt.axvline(s.mode(data), color='blue', alpha = 0.5, linewidth=1, label=\"Мода\")\n",
    "fig.subplots_adjust(wspace=0, hspace=0)"
   ]
  },
  {
   "attachments": {},
   "cell_type": "markdown",
   "id": "197f7c70",
   "metadata": {},
   "source": [
    "Тепер погляньмо на ці дві діаграми разом. До них я додав показник \"мода\" - це значення, котре найчастіше зустрічається.\n",
    "Що можна тут побачити? \n",
    "Покупець купує в основному товар ціною орієнтовно між 4 та 13 доларами, надаючи перевагу товарам ціною до 10 доларів. Покупки більше 20 доларів являються рідкістю. \n",
    "Для глибших інсайтів потрібно не вистачає інформації. Наприклад, чи використовувалися промокоди, категорія товару, котра купувалася, періодичність купівлі товарів на платформі."
   ]
  }
 ],
 "metadata": {
  "kernelspec": {
   "display_name": "Python 3 (ipykernel)",
   "language": "python",
   "name": "python3"
  },
  "language_info": {
   "codemirror_mode": {
    "name": "ipython",
    "version": 3
   },
   "file_extension": ".py",
   "mimetype": "text/x-python",
   "name": "python",
   "nbconvert_exporter": "python",
   "pygments_lexer": "ipython3",
   "version": "3.8.10"
  }
 },
 "nbformat": 4,
 "nbformat_minor": 5
}
